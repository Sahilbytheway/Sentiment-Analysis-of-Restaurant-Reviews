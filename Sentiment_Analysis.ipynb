{
  "nbformat": 4,
  "nbformat_minor": 0,
  "metadata": {
    "colab": {
      "name": "Sentiment Analysis.ipynb",
      "version": "0.3.2",
      "provenance": [],
      "include_colab_link": true
    },
    "kernelspec": {
      "name": "python3",
      "display_name": "Python 3"
    }
  },
  "cells": [
    {
      "cell_type": "markdown",
      "metadata": {
        "id": "view-in-github",
        "colab_type": "text"
      },
      "source": [
        "<a href=\"https://colab.research.google.com/github/Sahilbytheway/Sentiment-Analysis-of-Restaurant-Reviews/blob/master/Sentiment_Analysis.ipynb\" target=\"_parent\"><img src=\"https://colab.research.google.com/assets/colab-badge.svg\" alt=\"Open In Colab\"/></a>"
      ]
    },
    {
      "metadata": {
        "id": "aKWybmClwB6U",
        "colab_type": "text"
      },
      "cell_type": "markdown",
      "source": [
        "# Sentiment Analysis of Restaurant Reviews"
      ]
    },
    {
      "metadata": {
        "id": "ft5xLQqojBM_",
        "colab_type": "text"
      },
      "cell_type": "markdown",
      "source": [
        "The purpose of this analysis is to build a prediction model to predict whether a review on the restaurant is positive or negative. To do so, we will work on Restaurant Review dataset, we will load it into predicitve algorithms Naive Bayes , Decision Tree Classification and Random Forest Classification. In the end, we hope to find a \"best\" model for predicting the review's sentiment.\n",
        "\n",
        "Dataset: Restaurant_Reviews.tsv is a dataset from Kaggle datasets which consists of 1000 reviews on a restaurant.\n",
        "\n",
        "To build a model to predict if review is positive or negative, following steps are performed.\n",
        "\n",
        "\n",
        "*   Importing Dataset\n",
        "*   Preprocessing Dataset\n",
        "*   Vectorization\n",
        "*   Training and Classification\n",
        "*   Analysis Conclusion\n",
        "\n"
      ]
    },
    {
      "metadata": {
        "id": "0q_juYogl8Ew",
        "colab_type": "text"
      },
      "cell_type": "markdown",
      "source": [
        "\n",
        "\n",
        "**Importing Dataset**\n",
        "\n",
        "\n",
        "\n",
        "Importing the Restaurant Review dataset using pandas library."
      ]
    },
    {
      "metadata": {
        "id": "3Dt0rTa9l-nw",
        "colab_type": "code",
        "colab": {}
      },
      "cell_type": "code",
      "source": [
        "# Importing the libraries\n",
        "import numpy as np\n",
        "import pandas as pd"
      ],
      "execution_count": 0,
      "outputs": []
    },
    {
      "metadata": {
        "id": "VB7U9DQykmJx",
        "colab_type": "code",
        "colab": {}
      },
      "cell_type": "code",
      "source": [
        "# Importing the dataset\n",
        "dataset = pd.read_csv('Restaurant_Reviews.tsv', delimiter = '\\t', quoting = 3)"
      ],
      "execution_count": 0,
      "outputs": []
    },
    {
      "metadata": {
        "id": "WVTU3GctmlDs",
        "colab_type": "text"
      },
      "cell_type": "markdown",
      "source": [
        "**Preprocessing Dataset**\n",
        "\n",
        "\n"
      ]
    },
    {
      "metadata": {
        "id": "0UoJz_FImzP0",
        "colab_type": "text"
      },
      "cell_type": "markdown",
      "source": [
        "\n",
        "Each review undergoes through a preprocessing step, where all the vague information is removed.\n",
        "\n",
        "\n",
        "\n",
        "*   Removing the Stopwords, numeric and speacial charecters.\n",
        "*   Normalizing each review using the approach of stemming.\n",
        "\n"
      ]
    },
    {
      "metadata": {
        "id": "QciH2cF6m0rj",
        "colab_type": "code",
        "colab": {
          "base_uri": "https://localhost:8080/",
          "height": 51
        },
        "outputId": "8f9f2991-9092-4552-c2f4-b55b15a86afb"
      },
      "cell_type": "code",
      "source": [
        "import re\n",
        "import nltk\n",
        "nltk.download('stopwords')\n",
        "from nltk.corpus import stopwords\n",
        "from nltk.stem.porter import PorterStemmer\n",
        "corpus = []\n",
        "for i in range(0, 1000):\n",
        "    review = re.sub('[^a-zA-Z]', ' ', dataset['Review'][i])\n",
        "    review = review.lower()\n",
        "    review = review.split()\n",
        "    ps = PorterStemmer()\n",
        "    review = [ps.stem(word) for word in review if not word in set(stopwords.words('english'))]\n",
        "    review = ' '.join(review)\n",
        "    corpus.append(review)"
      ],
      "execution_count": 8,
      "outputs": [
        {
          "output_type": "stream",
          "text": [
            "[nltk_data] Downloading package stopwords to /root/nltk_data...\n",
            "[nltk_data]   Unzipping corpora/stopwords.zip.\n"
          ],
          "name": "stdout"
        }
      ]
    },
    {
      "metadata": {
        "id": "ZZzkLifZm8_B",
        "colab_type": "text"
      },
      "cell_type": "markdown",
      "source": [
        " **Vectorization**"
      ]
    },
    {
      "metadata": {
        "id": "P7-5c78mnAJo",
        "colab_type": "text"
      },
      "cell_type": "markdown",
      "source": [
        "From the cleaned dataset, potential features are extracted and are converted to numerical format. The vectorization techniques are used to convert textual data to numerical format. Using vectorization, a matrix is created where each column represents a feature and each row represents an individual review."
      ]
    },
    {
      "metadata": {
        "id": "z-FXEE9tnD6y",
        "colab_type": "code",
        "colab": {}
      },
      "cell_type": "code",
      "source": [
        "# Creating the Bag of Words model using CountVectorizer\n",
        "\n",
        "from sklearn.feature_extraction.text import CountVectorizer\n",
        "cv = CountVectorizer(max_features = 1500)\n",
        "X = cv.fit_transform(corpus).toarray()\n",
        "y = dataset.iloc[:, 1].values"
      ],
      "execution_count": 0,
      "outputs": []
    },
    {
      "metadata": {
        "id": "UoqQzt2RnoSm",
        "colab_type": "text"
      },
      "cell_type": "markdown",
      "source": [
        "**Training and Classification**"
      ]
    },
    {
      "metadata": {
        "id": "uaYZ6OFmnsSc",
        "colab_type": "text"
      },
      "cell_type": "markdown",
      "source": [
        "Further the data is splitted into training and testing set using Cross Validation technique. This data is used as input to classification algorithm."
      ]
    },
    {
      "metadata": {
        "id": "mpmS5GIgnunc",
        "colab_type": "text"
      },
      "cell_type": "markdown",
      "source": [
        "**Classification Algorithms:**\n",
        "\n",
        "Algorithms like Decision tree, Support Vector Machine, Logistic Regression, Naive Bayes were implemented and on comparing the evaluation metrics two of the algorithms gave better predictions than others.\n",
        "\n",
        "\n",
        "*   Gaussian Naive Bayes\n",
        "*   Decision Tree Classification\n",
        "*   Random Forest Classification\n",
        "\n",
        "\n"
      ]
    },
    {
      "metadata": {
        "id": "ibFT4EHpoo0O",
        "colab_type": "code",
        "colab": {}
      },
      "cell_type": "code",
      "source": [
        "# Splitting the dataset into the Training set and Test set\n",
        "from sklearn.model_selection import train_test_split\n",
        "X_train, X_test, y_train, y_test = train_test_split(X, y, test_size = 0.20, random_state = 0)\n"
      ],
      "execution_count": 0,
      "outputs": []
    },
    {
      "metadata": {
        "id": "wErphM8NprOk",
        "colab_type": "text"
      },
      "cell_type": "markdown",
      "source": [
        "**Gaussian Naive Bayes**"
      ]
    },
    {
      "metadata": {
        "id": "Cj8DRKw2qPC3",
        "colab_type": "code",
        "colab": {
          "base_uri": "https://localhost:8080/",
          "height": 153
        },
        "outputId": "6f2f384a-63c3-42d4-a1a3-d15861bcc9b1"
      },
      "cell_type": "code",
      "source": [
        "# Fitting Naive Bayes to the Training set\n",
        "from sklearn.naive_bayes import GaussianNB\n",
        "classifier = GaussianNB()\n",
        "classifier.fit(X_train, y_train)\n",
        "\n",
        "# Predicting the Test set results\n",
        "y_pred = classifier.predict(X_test)\n",
        "\n",
        "# Making the Confusion Matrix\n",
        "from sklearn.metrics import confusion_matrix\n",
        "cm = confusion_matrix(y_test, y_pred)\n",
        "print (\"Confusion Matrix:\\n\",cm)\n",
        "\n",
        "# Accuracy, Precision and Recall\n",
        "from sklearn.metrics import accuracy_score\n",
        "from sklearn.metrics import precision_score\n",
        "from sklearn.metrics import recall_score\n",
        "score1 = accuracy_score(y_test,y_pred)\n",
        "score2 = precision_score(y_test,y_pred)\n",
        "score3= recall_score(y_test,y_pred)\n",
        "print(\"\\n\")\n",
        "print(\"Accuracy is \",round(score1*100,2),\"%\")\n",
        "print(\"Precision is \",round(score2,2))\n",
        "print(\"Recall is \",round(score3,2))"
      ],
      "execution_count": 15,
      "outputs": [
        {
          "output_type": "stream",
          "text": [
            "Confusion Matrix:\n",
            " [[55 42]\n",
            " [12 91]]\n",
            "\n",
            "\n",
            "Accuracy is  73.0 %\n",
            "Precision is  0.68\n",
            "Recall is  0.88\n"
          ],
          "name": "stdout"
        }
      ]
    },
    {
      "metadata": {
        "id": "20wkLiE1trJS",
        "colab_type": "text"
      },
      "cell_type": "markdown",
      "source": [
        "**Decision Tree Classification**"
      ]
    },
    {
      "metadata": {
        "id": "v0qsxoKft4J-",
        "colab_type": "code",
        "colab": {
          "base_uri": "https://localhost:8080/",
          "height": 153
        },
        "outputId": "d90486f0-4c3d-48a6-d507-e86491e2f72e"
      },
      "cell_type": "code",
      "source": [
        "# Fitting Decision Tree to the Training set\n",
        "from sklearn.tree import DecisionTreeClassifier\n",
        "classifier = DecisionTreeClassifier()\n",
        "classifier.fit(X_train, y_train)\n",
        "\n",
        "# Predicting the Test set results\n",
        "y_pred = classifier.predict(X_test)\n",
        "\n",
        "# Making the Confusion Matrix\n",
        "from sklearn.metrics import confusion_matrix\n",
        "cm = confusion_matrix(y_test, y_pred)\n",
        "print (\"Confusion Matrix:\\n\",cm)\n",
        "\n",
        "# Accuracy, Precision and Recall\n",
        "from sklearn.metrics import accuracy_score\n",
        "from sklearn.metrics import precision_score\n",
        "from sklearn.metrics import recall_score\n",
        "score1 = accuracy_score(y_test,y_pred)\n",
        "score2 = precision_score(y_test,y_pred)\n",
        "score3= recall_score(y_test,y_pred)\n",
        "print(\"\\n\")\n",
        "print(\"Accuracy is \",round(score1*100,2),\"%\")\n",
        "print(\"Precision is \",round(score2,2))\n",
        "print(\"Recall is \",round(score3,2))"
      ],
      "execution_count": 20,
      "outputs": [
        {
          "output_type": "stream",
          "text": [
            "Confusion Matrix:\n",
            " [[71 26]\n",
            " [44 59]]\n",
            "\n",
            "\n",
            "Accuracy is  65.0 %\n",
            "Precision is  0.69\n",
            "Recall is  0.57\n"
          ],
          "name": "stdout"
        }
      ]
    },
    {
      "metadata": {
        "id": "tAekCeoTuj-z",
        "colab_type": "text"
      },
      "cell_type": "markdown",
      "source": [
        "**Random Forest Classification**"
      ]
    },
    {
      "metadata": {
        "id": "T-XvziqAukRs",
        "colab_type": "code",
        "colab": {
          "base_uri": "https://localhost:8080/",
          "height": 153
        },
        "outputId": "95fff741-e8b4-44f1-ba5c-64a7a7242cf2"
      },
      "cell_type": "code",
      "source": [
        "# Fitting Random Forest to the Training set\n",
        "from sklearn.ensemble import RandomForestClassifier\n",
        "classifier = RandomForestClassifier(n_estimators = 10)\n",
        "classifier.fit(X_train, y_train)\n",
        "\n",
        "# Predicting the Test set results\n",
        "y_pred = classifier.predict(X_test)\n",
        "\n",
        "# Making the Confusion Matrix\n",
        "from sklearn.metrics import confusion_matrix\n",
        "cm = confusion_matrix(y_test, y_pred)\n",
        "print (\"Confusion Matrix:\\n\",cm)\n",
        "\n",
        "# Accuracy, Precision and Recall\n",
        "from sklearn.metrics import accuracy_score\n",
        "from sklearn.metrics import precision_score\n",
        "from sklearn.metrics import recall_score\n",
        "score1 = accuracy_score(y_test,y_pred)\n",
        "score2 = precision_score(y_test,y_pred)\n",
        "score3= recall_score(y_test,y_pred)\n",
        "print(\"\\n\")\n",
        "print(\"Accuracy is \",round(score1*100,2),\"%\")\n",
        "print(\"Precision is \",round(score2,2))\n",
        "print(\"Recall is \",round(score3,2))"
      ],
      "execution_count": 21,
      "outputs": [
        {
          "output_type": "stream",
          "text": [
            "Confusion Matrix:\n",
            " [[81 16]\n",
            " [47 56]]\n",
            "\n",
            "\n",
            "Accuracy is  68.5 %\n",
            "Precision is  0.78\n",
            "Recall is  0.54\n"
          ],
          "name": "stdout"
        }
      ]
    }
  ]
}